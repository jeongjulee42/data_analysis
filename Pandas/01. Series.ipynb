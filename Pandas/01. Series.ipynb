{
 "cells": [
  {
   "cell_type": "markdown",
   "id": "c66302e0",
   "metadata": {},
   "source": [
    "# Pandas\n",
    "파이썬에서 사용하는 데이터 분석용 라이브러리"
   ]
  },
  {
   "cell_type": "code",
   "execution_count": 1,
   "id": "c18f990c",
   "metadata": {},
   "outputs": [],
   "source": [
    "import pandas as pd"
   ]
  },
  {
   "cell_type": "markdown",
   "id": "8e2930ee",
   "metadata": {},
   "source": [
    "# 1. Series\n",
    "1차원 데이터 (정수,  실수, 문자열등)"
   ]
  },
  {
   "cell_type": "markdown",
   "id": "6fe28fbb",
   "metadata": {},
   "source": [
    "## Series 객체 생성\n",
    "예) 1월부터 4월까지 평균 온도 데이터 (-20, -10, 10, 20)"
   ]
  },
  {
   "cell_type": "code",
   "execution_count": 4,
   "id": "589f0bf0",
   "metadata": {},
   "outputs": [
    {
     "data": {
      "text/plain": [
       "0   -20\n",
       "1   -10\n",
       "2    10\n",
       "3    20\n",
       "dtype: int64"
      ]
     },
     "execution_count": 4,
     "metadata": {},
     "output_type": "execute_result"
    }
   ],
   "source": [
    "temp = pd.Series([-20, -10, 10, 20]) # 안에다가 리스트 형태의 데이터\n",
    "temp # 굳이 print 안써도 나옴\n"
   ]
  },
  {
   "cell_type": "code",
   "execution_count": 5,
   "id": "ae25b2de",
   "metadata": {},
   "outputs": [
    {
     "data": {
      "text/plain": [
       "-20"
      ]
     },
     "execution_count": 5,
     "metadata": {},
     "output_type": "execute_result"
    }
   ],
   "source": [
    "temp[0] # 1월 온도"
   ]
  },
  {
   "cell_type": "code",
   "execution_count": 6,
   "id": "969a88ab",
   "metadata": {},
   "outputs": [
    {
     "data": {
      "text/plain": [
       "10"
      ]
     },
     "execution_count": 6,
     "metadata": {},
     "output_type": "execute_result"
    }
   ],
   "source": [
    "temp[2] # 3월 온도"
   ]
  },
  {
   "cell_type": "markdown",
   "id": "de4048ce",
   "metadata": {},
   "source": [
    "# Series 객체 생성 (Index 지정)\n"
   ]
  },
  {
   "cell_type": "code",
   "execution_count": 8,
   "id": "1f7b7f08",
   "metadata": {},
   "outputs": [
    {
     "data": {
      "text/plain": [
       "Jan   -20\n",
       "Feb   -10\n",
       "Mar    10\n",
       "Apr    20\n",
       "dtype: int64"
      ]
     },
     "execution_count": 8,
     "metadata": {},
     "output_type": "execute_result"
    }
   ],
   "source": [
    "temp = pd.Series([-20, -10, 10, 20], index = ['Jan', 'Feb', 'Mar', 'Apr'])\n",
    "temp\n",
    "# 인덱스가 바뀐다."
   ]
  },
  {
   "cell_type": "code",
   "execution_count": 10,
   "id": "27318769",
   "metadata": {},
   "outputs": [
    {
     "data": {
      "text/plain": [
       "-20"
      ]
     },
     "execution_count": 10,
     "metadata": {},
     "output_type": "execute_result"
    }
   ],
   "source": [
    "temp['Jan'] # 다음과 같이 접근 가능\n"
   ]
  },
  {
   "cell_type": "code",
   "execution_count": 12,
   "id": "eed277db",
   "metadata": {},
   "outputs": [],
   "source": [
    "# temp['Jun'] # 존재하지 않는 인덱스 접근 시도시 에러"
   ]
  },
  {
   "cell_type": "code",
   "execution_count": null,
   "id": "c626decd",
   "metadata": {},
   "outputs": [],
   "source": []
  }
 ],
 "metadata": {
  "kernelspec": {
   "display_name": "Python 3 (ipykernel)",
   "language": "python",
   "name": "python3"
  },
  "language_info": {
   "codemirror_mode": {
    "name": "ipython",
    "version": 3
   },
   "file_extension": ".py",
   "mimetype": "text/x-python",
   "name": "python",
   "nbconvert_exporter": "python",
   "pygments_lexer": "ipython3",
   "version": "3.9.12"
  }
 },
 "nbformat": 4,
 "nbformat_minor": 5
}
